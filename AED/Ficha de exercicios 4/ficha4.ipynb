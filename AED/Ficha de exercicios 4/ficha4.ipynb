{
 "cells": [
  {
   "cell_type": "markdown",
   "metadata": {},
   "source": [
    "## 1\n",
    "Elabore a função **aboveAverage** que receba uma lista com 10 números inteiros (número inseridos pelo utilizador) e que devolva quantos desses números estão acima da média."
   ]
  },
  {
   "cell_type": "code",
   "execution_count": null,
   "metadata": {},
   "outputs": [],
   "source": [
    "def aboveAverage(listNumber):\n",
    "    media = sum(listNumber)/len(listNumber)\n",
    "    cont=0\n",
    "\n",
    "    for numero in listNumber:\n",
    "        if numero > media:\n",
    "            cont+=1\n",
    "    return cont\n",
    "\n",
    "\n",
    "listNumber = []\n",
    "for i in range(10):\n",
    "    numero = int(input(\"Insira o {:n} número: \" .format(i+1)))\n",
    "    listNumber.append(numero)\n",
    "\n",
    "print ('Existem {:n} números acima da média'.format(aboveAverage(listNumber)))"
   ]
  },
  {
   "cell_type": "markdown",
   "metadata": {},
   "source": [
    "## 2\n",
    "Elabora uma função generateNumbers que permita gerar uma chave do Euromilhões\n",
    "de forma aleatória (5 números inteiros entre 1 e 50), assim como as estrelas (duas estrelas entre 1 e 12).\n",
    "\n",
    "A função generateNumbers deve ter 3 argumentos de entrada: limite inferior, limite\n",
    "superior, e quantidade de números a gerar. Por exemplo, para gerar chaves do Euromilhões, deve invocar a função com os seguintes argumentos:\n",
    "```\n",
    "generateNumbers(1,50, 5) -> gera 5 números entre 1 e 50\n",
    "generateNumbers(1,12,2) -> gera 2 números entre 1 e 12 (estrelas)\n",
    "```\n",
    "A função deve devolver uma lista com os números gerados. Obviamente que a função\n",
    "não pode devolver números nem estrelas repetidas!\n",
    "\n",
    "No final imprima a chave gerada e pergunte ao utilizador se pretende gerar nova chave\n",
    "(S/N)."
   ]
  },
  {
   "cell_type": "code",
   "execution_count": null,
   "metadata": {},
   "outputs": [],
   "source": [
    "import random\n",
    "def generateNumbers(n1,n2,n3):\n",
    "    cont = 0\n",
    "    for i in random.randint(n1, n2+1):\n",
    "        listNumber.append(i)\n",
    "        if cont == n3:\n",
    "            return i\n",
    "        cont+=1\n",
    "\n",
    "key = generateNumbers(1,50,5)\n",
    "star = generateNumbers(1,12,2)\n",
    "\n",
    "print (\"Chave do Euromilhões: {:n} Estrlas: {:n}\" .format(key,star))"
   ]
  },
  {
   "cell_type": "code",
   "execution_count": null,
   "metadata": {},
   "outputs": [],
   "source": [
    "import random\n",
    "\n",
    "def generateNumbers(n1,n2,n3):\n",
    "    cont = 0\n",
    "    listNumber = []\n",
    "    while cont < n3:\n",
    "        number = random.randint(n1,n2)\n",
    "        if number not in listNumber:\n",
    "            listNumber.append(number)\n",
    "            cont+=1\n",
    "    return listNumber\n",
    "\n",
    "resposta = \"S\"\n",
    "while resposta.upper() == \"S\":\n",
    "    key = generateNumbers(1,50,5)\n",
    "    star = generateNumbers(1,12,2)\n",
    "    print (f\"Chave do Euromilhões: {key} Estrlas: {star}\")\n",
    "    resposta = input(\"Gerar nova chave (S/N): \")"
   ]
  },
  {
   "cell_type": "markdown",
   "metadata": {},
   "source": [
    "## 3\n",
    "Crie um programa que leia a pontuação de 10 participantes num concurso de programação (a pontuação deve estar validada entre 0 a 20, por uma estrutura try-except).\n",
    "\n",
    "O programa deve invocar uma função, positiveList que receba a lista das 10 pontuações e devolva uma nova lista apenas com as pontuações positivas (>=10)."
   ]
  },
  {
   "cell_type": "code",
   "execution_count": null,
   "metadata": {},
   "outputs": [],
   "source": [
    "def positiveList():\n",
    "    listNumber = []\n",
    "    for i in range(10):\n",
    "        number = int(input(\"Insira o {:n} número: \" .format(i+1)))\n",
    "        try:\n",
    "            if number >= 10 and number <= 20:\n",
    "                listNumber.append(number)\n",
    "        except:\n",
    "            continue\n",
    "\n",
    "positiveList()\n",
    "print(listNumber)"
   ]
  }
 ],
 "metadata": {
  "kernelspec": {
   "display_name": "Python 3",
   "language": "python",
   "name": "python3"
  },
  "language_info": {
   "codemirror_mode": {
    "name": "ipython",
    "version": 3
   },
   "file_extension": ".py",
   "mimetype": "text/x-python",
   "name": "python",
   "nbconvert_exporter": "python",
   "pygments_lexer": "ipython3",
   "version": "3.12.7"
  }
 },
 "nbformat": 4,
 "nbformat_minor": 2
}
