{
 "cells": [
  {
   "cell_type": "markdown",
   "metadata": {},
   "source": [
    "## 1\n",
    "Implemente a função invertText(texto). A função deve receber um texto\n",
    "(uma string),inserido através de um input, e deve imprimir o mesmo texto\n",
    "mas por ordem inversa. "
   ]
  },
  {
   "cell_type": "code",
   "execution_count": null,
   "metadata": {},
   "outputs": [],
   "source": [
    "texto = str(input(\"Indique um texto: \"))\n",
    "\n",
    "print (texto[::-1])"
   ]
  },
  {
   "cell_type": "markdown",
   "metadata": {},
   "source": [
    "## 2\n",
    "Implemente a função countText(texto). A função deve receber um texto,\n",
    "inserido através de um input, e deve imprimir:\n",
    "```\n",
    "• Número de caracteres\n",
    "• Número de espaços\n",
    "• Número de vogais\n",
    "```\n",
    " Incluídos nesse texto.\n"
   ]
  },
  {
   "cell_type": "code",
   "execution_count": null,
   "metadata": {},
   "outputs": [],
   "source": [
    "texto = str(input(\"Indique um texto: \"))\n",
    "\n",
    "caracteres = texto.count(texto[0:])\n",
    "espacos = texto.count(\" \")\n",
    "vogais = texto.count(\"a\") + texto.count(\"e\") + texto.count(\"i\") + texto.count(\"o\") + texto.count(\"u\")\n",
    "\n",
    "print (\"Nº de caracteres:\", caracteres)\n",
    "print (\"Nº de vogais:\", vogais)\n",
    "print (\"Nº de espaços:\", espacos)"
   ]
  }
 ],
 "metadata": {
  "kernelspec": {
   "display_name": "Python 3",
   "language": "python",
   "name": "python3"
  },
  "language_info": {
   "codemirror_mode": {
    "name": "ipython",
    "version": 3
   },
   "file_extension": ".py",
   "mimetype": "text/x-python",
   "name": "python",
   "nbconvert_exporter": "python",
   "pygments_lexer": "ipython3",
   "version": "3.12.7"
  }
 },
 "nbformat": 4,
 "nbformat_minor": 2
}
