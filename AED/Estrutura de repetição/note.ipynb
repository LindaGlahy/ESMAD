{
 "cells": [
  {
   "cell_type": "markdown",
   "metadata": {},
   "source": [
    "# Exercise 1 \n",
    "Elabore um programa que simule a função fatorial, isto é, que determine\n",
    "o fatorial de um determinado número.\n",
    "Exemplo: Fatorial de 5 = 5 * 4 * 3 * 2 * 1 = 120\n",
    "Note que 0! = 1\n",
    "Nota: não utilizar a função math.factorial()\n",
    "O objetivo é desenvolvermos a nossa própria função fatorial."
   ]
  },
  {
   "cell_type": "code",
   "execution_count": null,
   "metadata": {},
   "outputs": [],
   "source": [
    "numero = int(input('Indique um número para fatoração: '))\n",
    "\n",
    "if numero < 0:\n",
    "    print('Precisa ser negativo')\n",
    "\n",
    "elif numero == 0:\n",
    "    print('Fatorial igual a 0')\n",
    "\n",
    "for i in range(1, numero):\n",
    "    numero *= i\n",
    "\n",
    "print (\"O fatorial é \", numero)"
   ]
  },
  {
   "cell_type": "markdown",
   "metadata": {},
   "source": [
    "# Exercise 2\n",
    "\n",
    "Implemente um **programa** que peça ao utilizador a indicação de 2 números\n",
    "inteiros (limite inferior e limite superior), calculando em seguida a\n",
    "soma de todos os pares entre esse intervalo (incluindo os limites indicados.\n",
    "Exemplo:\n",
    "```\n",
    "Limite inferior: 1\n",
    "Limite superior: 10\n",
    "Soma dos pares no intervalo = 2+4+6+8+10=30\n",
    "```"
   ]
  },
  {
   "cell_type": "code",
   "execution_count": null,
   "metadata": {},
   "outputs": [],
   "source": [
    "n1 = int(input('Insira número limite inferior: '))\n",
    "n2 = int(input('Insira número limite superior: '))\n",
    "resul = 0\n",
    "\n",
    "for i in range(n1,n2+1):\n",
    "    if i % 2 == 0:\n",
    "        resul += i\n",
    "    \n",
    "print (f'A soma de todos os números entre {n1} e {n2} é', resul)\n"
   ]
  },
  {
   "cell_type": "markdown",
   "metadata": {},
   "source": [
    "# Exercise 3\n",
    "\n",
    "Jogo Adivinha o número!\n",
    "\n",
    "Elabore um programa que simule o jogo da adivinha de um número.\n",
    "\n",
    "O programa deve começar por gerar um número aleatório (entre 1 e 50),\n",
    "permitindo que o jogador tente, iterativamente, adivinhar o número gerado pelo computador.\n",
    "\n",
    "Para gerar um número aleatório recorra à biblioteca random\n",
    "(import random).\n",
    "\n",
    "Nesta biblioteca encontra duas funções para gerar números aleatórios:\n",
    "\n",
    "• random.randrange(linInf, limSup)\n",
    "\n",
    "• random.randint(limInf, limSup)\n",
    "\n",
    "O jogador dispõe de várias tentativas para adivinhar o número, sendo\n",
    "que após cada tentativa deve surgir uma mensagem do género:\n",
    "\n",
    "• “Número é Maior” - caso o palpite do jogador seja inferior ao número a adivinhar\n",
    "\n",
    "• “Ñúmero é Menor” - caso o palpite do jogador seja superior ao número a adivinhar\n",
    "\n",
    "• “Acertou!!!” - caso o palpite do jogador coincida com o número a\n",
    "adivinhar.\n",
    "\n",
    "Neste caso, o jogo termina com a mensagem “Parabéns, acertou!!”\n",
    "\n",
    "Outras considerações:\n",
    "\n",
    "• Após 10 tentativas falhadas o jogo deverá terminar, indicando o insucesso do jogador, como uma mensagem do género “Esgotou as 10 tentativas :(“.\n",
    "\n",
    "• Quando o jogador acerta no número, o jogo deve in"
   ]
  },
  {
   "cell_type": "code",
   "execution_count": null,
   "metadata": {},
   "outputs": [],
   "source": [
    "import random\n",
    "\n",
    "num = random.randint(1,50)\n",
    "tent = 0\n",
    "\n",
    "while True:\n",
    "    tent += 1\n",
    "    if tent == 11:\n",
    "        print ('Esgotou as 10 tentativas :(')\n",
    "        break\n",
    "\n",
    "    n1 = int(input('Indique o seu palpite: '))\n",
    "\n",
    "    if num > n1:\n",
    "        print ('O número é maior!')\n",
    "    \n",
    "    elif num < n1:\n",
    "        print ('O número é menor!')\n",
    "\n",
    "    else:\n",
    "        print (f'Parabéns! Acertou em {tent} tentativas')\n",
    "        break\n"
   ]
  },
  {
   "cell_type": "markdown",
   "metadata": {},
   "source": [
    "# Exercise 4\n",
    "\n",
    "Faça uma versão 2.0 do jogo anterior em que:\n",
    "\n",
    "Após a conclusão de um jogo, deve surgir ao utilizador a opção de iniciar um novo jogo: “Novo jogo(S/N)?”.\n",
    "\n",
    "O programa deve comportar-se de acordo com a resposta dada pelo utilizador (S ou N)."
   ]
  },
  {
   "cell_type": "code",
   "execution_count": null,
   "metadata": {},
   "outputs": [],
   "source": [
    "import random\n",
    "\n",
    "def jogo():\n",
    "    num = random.randint(1,10)\n",
    "    tent = 0\n",
    "\n",
    "    while True:\n",
    "        tent += 1\n",
    "        if tent == 11:\n",
    "            print ('Esgotou as 10 tentativas :(')\n",
    "            break\n",
    "\n",
    "        n1 = int(input('Indique o seu palpite: '))\n",
    "\n",
    "        if num > n1:\n",
    "            print ('O número é maior!')\n",
    "        \n",
    "        elif num < n1:\n",
    "            print ('O número é menor!')\n",
    "\n",
    "        else:\n",
    "            print (f'Parabéns! Acertou em {tent} tentativas')\n",
    "            tent = 0\n",
    "            while True:\n",
    "                r1 = input('Novo jogo? (S/N):')\n",
    "                if r1 == 'S':\n",
    "                    num = random.randint(1,10)\n",
    "                    break\n",
    "                elif r1  == 'N':\n",
    "                    return\n",
    "                else:\n",
    "                    print ('Resposta incorreta!')\n",
    "\n",
    "jogo()\n",
    "print('Tchau!')"
   ]
  },
  {
   "cell_type": "markdown",
   "metadata": {},
   "source": [
    "# Exercise 5\n",
    "\n",
    "Elabore um programa que leia um número (inteiro e positivo) e indique\n",
    "se ele é primo ou não.\n",
    "\n",
    "Nota: Um número primo é divisível apenas por si próprio e por 1."
   ]
  },
  {
   "cell_type": "code",
   "execution_count": null,
   "metadata": {},
   "outputs": [],
   "source": [
    "numero = int(input('Número:'))\n",
    "counter = 0\n",
    "\n",
    "for i in range(2,numero+1):\n",
    "    if numero % i == 0:\n",
    "        counter += 1\n",
    "if counter == 1:\n",
    "    print (f'O número {numero} é primo')\n",
    "else:\n",
    "    print (f'O número {numero} não é primo')"
   ]
  },
  {
   "cell_type": "markdown",
   "metadata": {},
   "source": [
    "# Exercise 6\n",
    "\n",
    "Elabore um programa que ilustre os primeiros n termos da sequência de\n",
    "Fibonacci, sendo que o número de termos desejados (n) deve ser indicado\n",
    "pelo utilizador.\n",
    "\n",
    "Na sequência de Fibonacci, cada termo resulta da soma dos dois anteriores.\n",
    "```\n",
    "Sequencia de Fibonacci: 0, 1, 1, 2, 3, 5, 8, 13, 21, 34, 55, 89, 144, 233, 377, 610, 987, 1597, 2584, 4181\n",
    "```"
   ]
  },
  {
   "cell_type": "code",
   "execution_count": null,
   "metadata": {},
   "outputs": [],
   "source": [
    "num = int(input('Nº de termo a imprimir: '))\n",
    "ultimo = 1\n",
    "penultimo = 0\n",
    "\n",
    "termos = \"0\"\n",
    "if num <= 1:\n",
    "    termos = \"0\"\n",
    "if num == 2:\n",
    "    termos = \"0, 1\"\n",
    "else:\n",
    "    for i in range(1,num):\n",
    "        novo = ultimo + penultimo\n",
    "        termos +=  \", \" + str(novo)\n",
    "        ultimo = penultimo\n",
    "        penultimo = novo\n",
    "\n",
    "print(f\"Primeiros {num} termos da sequencia de Fibonacci: {termos}\")"
   ]
  },
  {
   "cell_type": "markdown",
   "metadata": {},
   "source": [
    "# Exercise 7\n",
    "\n",
    "Escreva um programa que verifique se um determinado número (inteiro e\n",
    "positivo) é perfeito.\n",
    "\n",
    "Em Matemática, um número perfeito é um número inteiro para o qual a soma\n",
    "de todos os seus divisores positivos próprios é igual ao próprio número.\n",
    "```\n",
    "Por exemplo, o número 6 é um número perfeito, pois:\n",
    "6 é divisível por: 1, 2 e 3 1+2+3 = 6, logo é um número perfeito\n",
    "```"
   ]
  },
  {
   "cell_type": "code",
   "execution_count": null,
   "metadata": {},
   "outputs": [],
   "source": [
    "num = int(input(\"Indique um número: \"))\n",
    "\n",
    "divisores = 0\n",
    "for i in range(1,num):\n",
    "    if num % i == 0:\n",
    "        divisores += int(i)\n",
    "\n",
    "if divisores == num:\n",
    "    print (f\"O número {num} é um número perfeito\")\n",
    "else:\n",
    "    print (f\"O número {num} não é um número perfeito\")\n"
   ]
  },
  {
   "cell_type": "markdown",
   "metadata": {},
   "source": [
    "# Exercise 8\n",
    "Implemente um programa que leia um número (entre 1 e 99) e determine a sua representação em linguagem binária.\n",
    "```\n",
    "Exemplo:\n",
    "Número : 12 Resultado: 1 1 0 0\n",
    "Número : 29 Resultado: 1 1 1 0 1\n",
    "```"
   ]
  },
  {
   "cell_type": "code",
   "execution_count": null,
   "metadata": {},
   "outputs": [],
   "source": [
    "# Solicita ao usuário um número entre 1 e 99\n",
    "numero = int(input(\"Digite um número entre 1 e 99: \"))\n",
    "\n",
    "# Verifica se o número está dentro do intervalo permitido\n",
    "if 1 <= numero <= 99:\n",
    "    binario = ''\n",
    "    \n",
    "    # Converte o número para binário manualmente\n",
    "    while numero > 0:\n",
    "        resto = numero % 2  # Obtém o resto da divisão por 2\n",
    "        binario = str(resto) + binario  # Adiciona o resto à frente da string\n",
    "        numero //= 2  # Divide o número por 2 e descarta a parte decimal\n",
    "    \n",
    "    # Formata a saída para separar os dígitos por espaços\n",
    "    resultado = ' '.join(binario)\n",
    "    \n",
    "    # Exibe o resultado\n",
    "    print(f\"Resultado: {resultado}\")\n",
    "else:\n",
    "    print(\"Por favor, digite um número válido entre 1 e 99.\")"
   ]
  },
  {
   "cell_type": "markdown",
   "metadata": {},
   "source": [
    "# Exercise 9\n",
    "Leia um conjunto de n números inteiros (sendo n indicado previamente\n",
    "pelo utilizador).\n",
    "\n",
    "Em seguida determine o segundo maior valor de entre o\n",
    "conjunto de números lido.\n",
    "\n",
    "**Nota: não recorrer a arrays/listas para resolver o exercício!**"
   ]
  },
  {
   "cell_type": "code",
   "execution_count": null,
   "metadata": {},
   "outputs": [],
   "source": [
    "import random\n",
    "\n",
    "n = int(input(\"Digite a quantidade de números: \"))\n",
    "\n",
    "maior = 0\n",
    "segundo_maior = 0\n",
    "\n",
    "for _ in range(n):\n",
    "    numero = random.randint(1, 100)\n",
    "    print(f\"Número gerado: {numero}\") \n",
    "\n",
    "    if maior == 0 or numero > maior:\n",
    "        segundo_maior = maior\n",
    "        maior = numero\n",
    "    elif (segundo_maior == 0 or numero > segundo_maior) and numero != maior:\n",
    "        segundo_maior = numero\n",
    "\n",
    "if segundo_maior is None:\n",
    "    print(\"Não há um segundo maior valor.\")\n",
    "else:\n",
    "    print(\"O segundo maior valor é:\", segundo_maior)\n"
   ]
  },
  {
   "cell_type": "code",
   "execution_count": null,
   "metadata": {},
   "outputs": [],
   "source": [
    "#maneira do professor\n",
    "maior = 0\n",
    "segundo_maior = 0\n",
    "\n",
    "n = int(input(\"Qts números deseja ler? \"))\n",
    "\n",
    "for _ in range(n):\n",
    "    numero = int(input(\"Número: \"))\n",
    "\n",
    "    if maior == 0 or numero > maior:\n",
    "        segundo_maior = maior\n",
    "        maior = numero\n",
    "    elif (segundo_maior == 0 or numero > segundo_maior) and numero != maior:\n",
    "        segundo_maior = numero\n",
    "\n",
    "if segundo_maior is None:\n",
    "    print(\"Não há um segundo maior valor.\")\n",
    "else:\n",
    "    print(\"O segundo maior valor é:\", segundo_maior)"
   ]
  }
 ],
 "metadata": {
  "kernelspec": {
   "display_name": "Python 3",
   "language": "python",
   "name": "python3"
  },
  "language_info": {
   "codemirror_mode": {
    "name": "ipython",
    "version": 3
   },
   "file_extension": ".py",
   "mimetype": "text/x-python",
   "name": "python",
   "nbconvert_exporter": "python",
   "pygments_lexer": "ipython3",
   "version": "3.12.7"
  }
 },
 "nbformat": 4,
 "nbformat_minor": 2
}
